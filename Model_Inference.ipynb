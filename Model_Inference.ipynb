{
 "cells": [
  {
   "cell_type": "code",
   "execution_count": 6,
   "metadata": {},
   "outputs": [
    {
     "name": "stderr",
     "output_type": "stream",
     "text": [
      "[nltk_data] Downloading package stopwords to\n",
      "[nltk_data]     C:\\Users\\LENOVO\\AppData\\Roaming\\nltk_data...\n",
      "[nltk_data]   Package stopwords is already up-to-date!\n",
      "[nltk_data] Downloading package punkt to\n",
      "[nltk_data]     C:\\Users\\LENOVO\\AppData\\Roaming\\nltk_data...\n",
      "[nltk_data]   Package punkt is already up-to-date!\n"
     ]
    },
    {
     "data": {
      "text/plain": [
       "True"
      ]
     },
     "execution_count": 6,
     "metadata": {},
     "output_type": "execute_result"
    }
   ],
   "source": [
    "# Data Manipulasi\n",
    "import pandas as pd\n",
    "import re\n",
    "\n",
    "# TensorFlow & Model Deep Learning\n",
    "import tensorflow as tf\n",
    "import tensorflow_hub as hub\n",
    "from tensorflow.keras.preprocessing.text import Tokenizer\n",
    "from tensorflow.keras.preprocessing.sequence import pad_sequences\n",
    "from tensorflow.keras.models import load_model\n",
    "from tensorflow_hub.keras_layer import KerasLayer \n",
    "\n",
    "# Natural Language Processing (NLP)\n",
    "import nltk\n",
    "from nltk.corpus import stopwords\n",
    "from nltk.tokenize import word_tokenize\n",
    "\n",
    "# Unduh resource NLTK yang diperlukan\n",
    "nltk.download('stopwords')\n",
    "nltk.download('punkt')\n"
   ]
  },
  {
   "cell_type": "code",
   "execution_count": 7,
   "metadata": {},
   "outputs": [],
   "source": [
    "# Load stopwords\n",
    "stpwds_id = list(set(stopwords.words('indonesian')))\n",
    "\n",
    "# Text preprocessing function\n",
    "def text_preprocessing(text):\n",
    "    # Case folding\n",
    "    text = text.lower()\n",
    "\n",
    "    # Mention removal\n",
    "    text = re.sub(\"@[A-Za-z0-9_]+\", \" \", text)\n",
    "\n",
    "    # Hashtags removal\n",
    "    text = re.sub(\"#[A-Za-z0-9_]+\", \" \", text)\n",
    "\n",
    "    # Newline removal (\\n)\n",
    "    text = re.sub(r\"\\\\n\", \" \",text)\n",
    "\n",
    "    # Whitespace removal\n",
    "    text = text.strip()\n",
    "\n",
    "    # URL removal\n",
    "    text = re.sub(r\"http\\S+\", \" \", text)\n",
    "    text = re.sub(r\"www.\\S+\", \" \", text)\n",
    "\n",
    "    # Non-letter removal (such as emoticons, symbols, etc.)\n",
    "    text = re.sub(\"[^A-Za-z\\s']\", \" \", text)\n",
    "\n",
    "    # Tokenization\n",
    "    tokens = word_tokenize(text)\n",
    "\n",
    "    # Stopwords removal\n",
    "    tokens = [word for word in tokens if word not in stpwds_id]\n",
    "\n",
    "    # Combining Tokens\n",
    "    text = ' '.join(tokens)\n",
    "\n",
    "    return text\n"
   ]
  },
  {
   "cell_type": "code",
   "execution_count": 10,
   "metadata": {},
   "outputs": [],
   "source": [
    "# Load model\n",
    "model = load_model('sentiment_model.h5', custom_objects={'KerasLayer': KerasLayer})"
   ]
  },
  {
   "cell_type": "code",
   "execution_count": 15,
   "metadata": {},
   "outputs": [
    {
     "name": "stdout",
     "output_type": "stream",
     "text": [
      "1/1 [==============================] - 0s 138ms/step\n",
      "Teks 1: Sentimen Negatif\n",
      "Teks 2: Sentimen Positif\n",
      "Teks 3: Sentimen Negatif\n",
      "Teks 4: Sentimen Positif\n"
     ]
    }
   ],
   "source": [
    "reviews = [\n",
    "    \"Sering lemot... bikin kesal dan tidak nyaman dipakai, kemudian pemesanan sering gagal\",\n",
    "    \"Aplikasinya mudah digunakan selain itu prose pemesanan sangat cepat\",\n",
    "    \"jelek banget kinerjanya kadang suka keluar sendiri dari aplikasi\",\n",
    "    \"suka banget karena ngga perlu ngantri untuk beli tiket\"\n",
    "]\n",
    "\n",
    "# Proses teks sebelum prediksi\n",
    "processed_reviews = [text_preprocessing(review) for review in reviews]\n",
    "\n",
    "# Prediksi menggunakan model\n",
    "predictions = model.predict(processed_reviews)\n",
    "\n",
    "# Hasil Prediksi\n",
    "for i, pred in enumerate(predictions):\n",
    "    sentiment = \"Positif\" if pred > 0.5 else \"Negatif\"\n",
    "    print(f\"Teks {i+1}: Sentimen {sentiment}\")"
   ]
  },
  {
   "cell_type": "markdown",
   "metadata": {},
   "source": [
    "**Kesimpulan :**\n",
    "\n",
    "Model yang telah disimpan sebelumnya, yaitu Model Improvement 2 dengan pendekatan Transfer Learning dan inisialisasi bobot Orthogonal, berhasil digunakan untuk memprediksi sentimen pada data baru dengan beberapa teks ulasan pengguna. Hasil prediksi menunjukkan bahwa :\n",
    "- Teks 1: Diprediksi sebagai ***Sentimen Negatif***\n",
    "- Teks 2: Diprediksi sebagai ***Sentimen Positif***\n",
    "- Teks 3: Diprediksi sebagai ***Sentimen Negatif***\n",
    "- Teks 4: Diprediksi sebagai ***Sentimen Positif***\n",
    "\n",
    "Hal ini menunjukkan bahwa model memiliki kemampuan yang baik dalam membedakan sentimen positif dan negatif, sehingga dapat diandalkan untuk analisis sentimen ulasan pengguna pada aplikasi TIX ID."
   ]
  }
 ],
 "metadata": {
  "kernelspec": {
   "display_name": "myenv",
   "language": "python",
   "name": "python3"
  },
  "language_info": {
   "codemirror_mode": {
    "name": "ipython",
    "version": 3
   },
   "file_extension": ".py",
   "mimetype": "text/x-python",
   "name": "python",
   "nbconvert_exporter": "python",
   "pygments_lexer": "ipython3",
   "version": "3.9.20"
  }
 },
 "nbformat": 4,
 "nbformat_minor": 2
}
